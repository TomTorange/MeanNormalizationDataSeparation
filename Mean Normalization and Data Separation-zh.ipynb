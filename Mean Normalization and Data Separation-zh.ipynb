{
 "cells": [
  {
   "cell_type": "markdown",
   "metadata": {},
   "source": [
    "# 均值标准化\n",
    "\n",
    "在机器学习中，我们会使用大量数据训练我们的模型。某些机器学习算法可能需要*标准化*数据才能正常工作。标准化是指*特征缩放*，旨在确保所有数据都采用相似的刻度，*即*所有数据采用相似范围的值。例如，数据集的值范围在 0 到 5,000 之间。通过标准化数据，可以使值范围在 0 到 1 之间。\n",
    "\n",
    "在此 Lab 中，你将执行一种特殊形式的特征缩放，称之为*均值标准化*。均值标准化不仅会缩放数据，而且会确保数据的均值为 0。\n",
    "\n",
    "# TODO：\n",
    "\n",
    "首先，你将导入 NumPy 并创建一个秩为 2 的 ndarray，其中包含 0 到 5,000（含）之间的随机整数，共有 1000 行和 20 列。此数组将模拟一个值范围很广的数据集。请填充以下代码"
   ]
  },
  {
   "cell_type": "code",
   "execution_count": 2,
   "metadata": {},
   "outputs": [
    {
     "name": "stdout",
     "output_type": "stream",
     "text": [
      "[[1114 4118  685 ...,  598  731 3996]\n",
      " [ 966  458 4405 ..., 2251 2907 3466]\n",
      " [2244 1756 1593 ..., 2713 1053  605]\n",
      " ..., \n",
      " [4923 1339 1123 ...,   48 2900 1622]\n",
      " [3700 1406 2684 ..., 3726 2992 2549]\n",
      " [4062 4439 3231 ..., 2356 4994 1944]]\n"
     ]
    }
   ],
   "source": [
    "# import NumPy into Python\n",
    "import numpy as np\n",
    "\n",
    "# Create a 1000 x 20 ndarray with random integers in the half-open interval [0, 5001).\n",
    "X = np.random.randint(0,5000,size=(1000,20))\n",
    "\n",
    "# print the shape of X\n",
    "print(X)"
   ]
  },
  {
   "cell_type": "markdown",
   "metadata": {},
   "source": [
    "创建好数组后，我们将标准化数据。我们将使用以下方程进行均值标准化：\n",
    "\n",
    "$\\mbox{Norm_Col}_i = \\frac{\\mbox{Col}_i - \\mu_i}{\\sigma_i}$\n",
    "\n",
    "其中 $\\mbox{Col}_i$ 是 $X$ 的第 $i$ 列，$\\mu_i$ 是 $X$ 的第 $i$ 列的平均值，$\\sigma_i$ 是 $X$ 的第 $i$ 列的标准差。换句话说，均值标准化的计算方法是将值减去 $X$ 的每列的平均值，然后除以值的标准差。在下面的空白处，你首先需要计算 $X$ 的每列的平均值和标准差。"
   ]
  },
  {
   "cell_type": "code",
   "execution_count": 3,
   "metadata": {},
   "outputs": [],
   "source": [
    "# Average of the values in each column of X\n",
    "# for i in range(20)\n",
    "#    ave_cols += (X[i-1,:] - X[i-1,:].mean())/X[i-1,:].std()\n",
    "# ave_cols = X[i-1,:].mean()\n",
    "ave_cols = X.mean(axis = 0)\n",
    "\n",
    "# Standard Deviation of the values in each column of X\n",
    "# std_cols = X[i-1,:].std()\n",
    "std_cols = X.std(axis = 0)"
   ]
  },
  {
   "cell_type": "markdown",
   "metadata": {},
   "source": [
    "如果你正确地完成了上述计算过程，则 `ave_cols` 和 `std_cols` 向量的形状都应该为 `(20,)`，因为 $X$ 有 20 列。你可以通过填充以下代码验证这一点："
   ]
  },
  {
   "cell_type": "code",
   "execution_count": 4,
   "metadata": {},
   "outputs": [
    {
     "name": "stdout",
     "output_type": "stream",
     "text": [
      "[ 2486.161  2535.647  2472.403  2523.755  2535.83   2521.14   2498.712\n",
      "  2474.276  2540.85   2453.231  2516.476  2509.254  2546.305  2515.335\n",
      "  2442.371  2582.564  2394.514  2492.931  2520.348  2497.892]\n",
      "[ 1435.50617243  1476.6061636   1413.07704623  1456.13584496  1456.0656548\n",
      "  1466.70915331  1419.44024357  1449.81959906  1448.35162288  1488.97534957\n",
      "  1441.49821624  1434.49282866  1411.89666477  1422.58180741  1401.13175946\n",
      "  1500.36245618  1490.64179728  1436.63951645  1484.53952352  1478.64472891]\n"
     ]
    }
   ],
   "source": [
    "# Print the shape of ave_cols\n",
    "print(ave_cols)\n",
    "# Print the shape of std_cols\n",
    "print(std_cols)"
   ]
  },
  {
   "cell_type": "markdown",
   "metadata": {},
   "source": [
    "现在，你可以利用广播计算 $X$ 的均值标准化版本，借助上述方程，用一行代码就能搞定。请填充以下代码"
   ]
  },
  {
   "cell_type": "code",
   "execution_count": 5,
   "metadata": {},
   "outputs": [],
   "source": [
    "# Mean normalize X\n",
    "X_norm = (X - ave_cols)/std_cols"
   ]
  },
  {
   "cell_type": "markdown",
   "metadata": {},
   "source": [
    "如果你正确地完成了均值标准化过程，那么 $X_{\\tiny{\\mbox{norm}}}$ 中的所有元素的平均值应该接近 0。你可以通过填充以下代码验证这一点："
   ]
  },
  {
   "cell_type": "code",
   "execution_count": 6,
   "metadata": {},
   "outputs": [
    {
     "name": "stdout",
     "output_type": "stream",
     "text": [
      "[[-0.95587259  1.07161479 -1.26490131 ..., -1.31900242 -1.2053219\n",
      "   1.01316291]\n",
      " [-1.05897211 -1.40704207  1.36765154 ..., -0.16840063  0.26045248\n",
      "   0.65472658]\n",
      " [-0.16869381 -0.52799929 -0.62233195 ...,  0.15318317 -0.98841963\n",
      "  -1.28015335]\n",
      " ..., \n",
      " [ 1.69754686 -0.81040363 -0.95493944 ..., -1.70184028  0.25573721\n",
      "  -0.59236136]\n",
      " [ 0.84558257 -0.76502931  0.14974201 ...,  0.85830091  0.31770929\n",
      "   0.03456408]\n",
      " [ 1.09775843  1.28900518  0.53684051 ..., -0.0953134   1.66627561\n",
      "  -0.37459438]]\n",
      "[-1.71588325 -1.71111774 -1.74965902 -1.73318651 -1.73812904 -1.71209131\n",
      " -1.75823675 -1.70660957 -1.7515429  -1.64692518 -1.74573646 -1.74922729\n",
      " -1.79708973 -1.76814788 -1.74028672 -1.71996039 -1.6056936  -1.73107517\n",
      " -1.69773048 -1.68457774]\n",
      "[ 1.74770339  1.667576    1.78588776  1.69918556  1.69097457  1.68394667\n",
      "  1.76146056  1.74071588  1.69582438  1.70907396  1.72148947  1.72795984\n",
      "  1.73574672  1.74518259  1.81755141  1.60856864  1.74252862  1.7430044\n",
      "  1.66627561  1.68945789]\n"
     ]
    }
   ],
   "source": [
    "# Print the average of all the values of X_norm\n",
    "print(X_norm)\n",
    "# Print the minimum value of each column of X_norm\n",
    "print(X_norm.min(axis=0))\n",
    "# Print the maximum value of each column of X_norm\n",
    "print(X_norm.max(axis=0))"
   ]
  },
  {
   "cell_type": "markdown",
   "metadata": {},
   "source": [
    "请注意，因为 $X$ 是使用随机整数创建的，因此上述值将有所变化。\n",
    "\n",
    "# 数据分离\n",
    "\n",
    "数据均值标准化后，通常在机器学习中，我们会将数据集拆分为三个集合：\n",
    "\n",
    "1. 训练集\n",
    "2. 交叉验证集\n",
    "3. 测试集\n",
    "\n",
    "划分方式通常为，训练集包含 60% 的数据，交叉验证集包含 20% 的数据，测试集包含 20% 的数据。\n",
    "\n",
    "在此部分，你需要将 `X_norm` 分离成训练集、交叉验证集和测试集。每个数据集将包含随机选择的 `X_norm` 行，确保不能重复选择相同的行。这样可以保证所有的 `X_norm` 行都能被选中，并且在三个新的数据集中随机分布。\n",
    "\n",
    "首先你需要创建一个秩为 1 的 ndarray，其中包含随机排列的 `X_norm` 行索引。为此，你可以使用 `np.random.permutation()` 函数。`np.random.permutation(N)` 函数会创建一个从 0 到 `N - 1`的随机排列的整数集。我们来看一个示例："
   ]
  },
  {
   "cell_type": "code",
   "execution_count": 22,
   "metadata": {},
   "outputs": [
    {
     "data": {
      "text/plain": [
       "array([0, 3, 4, 1, 2])"
      ]
     },
     "execution_count": 22,
     "metadata": {},
     "output_type": "execute_result"
    }
   ],
   "source": [
    "# We create a random permutation of integers 0 to 4\n",
    "np.random.permutation(5)"
   ]
  },
  {
   "cell_type": "markdown",
   "metadata": {},
   "source": [
    "# TODO\n",
    "\n",
    "在下面的空白处，创建一个秩为 1 的 ndarray，其中包含随机排列的 `X_norm` 行索引。用一行代码就能搞定：使用 `shape` 属性提取 `X_norm` 的行数，然后将其传递给  `np.random.permutation()` 函数。注意，`shape` 属性返回一个包含两个数字的元组，格式为 `(rows,columns)`。"
   ]
  },
  {
   "cell_type": "code",
   "execution_count": 23,
   "metadata": {},
   "outputs": [],
   "source": [
    "# Create a rank 1 ndarray that contains a random permutation of the row indices of `X_norm`\n",
    "row_indices = np.random.permutation(X_norm.shape[0])\n",
    "#print(row_indices[0:599])"
   ]
  },
  {
   "cell_type": "markdown",
   "metadata": {},
   "source": [
    "现在，你可以使用 `row_indices` ndarray 创建三个数据集，并选择进入每个数据集的行。注意，训练集包含 60% 的数据，交叉验证集包含 20% 的数据，测试集包含 20% 的数据。每个集合都只需一行代码就能创建。请填充以下代码"
   ]
  },
  {
   "cell_type": "code",
   "execution_count": 29,
   "metadata": {},
   "outputs": [],
   "source": [
    "# Make any necessary calculations.\n",
    "# You can save your calculations into variables to use later.\n",
    "\n",
    "# Create a Training Set\n",
    "X_train = X_norm[row_indices[0:599],0:19]\n",
    "\n",
    "# Create a Cross Validation Set\n",
    "X_crossVal = X_norm[row_indices[600:799],0:19]\n",
    "\n",
    "# Create a Test Set\n",
    "X_test = X_norm[row_indices[800:999],0:19]"
   ]
  },
  {
   "cell_type": "markdown",
   "metadata": {},
   "source": [
    "如果你正确地完成了上述计算步骤，那么 `X_tain` 应该有 600 行和 20 列，`X_crossVal` 应该有 200 行和 20 列，`X_test` 应该有 200 行和 20 列。你可以通过填充以下代码验证这一点："
   ]
  },
  {
   "cell_type": "code",
   "execution_count": 30,
   "metadata": {},
   "outputs": [
    {
     "name": "stdout",
     "output_type": "stream",
     "text": [
      "[[-0.19377207  1.02285432 -0.27274026 ..., -0.4363986   1.18197292\n",
      "   1.03712429]\n",
      " [ 1.74770339  0.08353819 -1.60317019 ..., -1.49634473 -0.82757782\n",
      "  -1.38113399]\n",
      " [ 1.24544153 -0.20834736  0.19149487 ...,  0.66648205 -0.69671688\n",
      "   1.57533832]\n",
      " ..., \n",
      " [-0.35051121  0.36391085  1.21054758 ..., -1.19848645 -1.44081447\n",
      "  -1.64518894]\n",
      " [ 0.81771784  1.06213359  0.43918129 ...,  0.36661121  0.79774292\n",
      "  -0.75063545]\n",
      " [-0.85277307 -0.16229581  1.02584428 ...,  0.13583813 -0.26376206\n",
      "  -0.0770259 ]]\n",
      "[[-0.77335857 -1.05488318 -0.55581046 ...,  1.0736892   1.6246727\n",
      "   1.59015773]\n",
      " [-0.25577111  0.0909877  -0.02788454 ...,  0.74899684  1.32884344\n",
      "  -1.67886941]\n",
      " [ 1.45442704  1.25311207 -0.77306684 ..., -0.71614388 -0.20459621\n",
      "   1.13412407]\n",
      " ..., \n",
      " [-0.32125323  0.47768526 -0.41639839 ..., -1.164273    1.31701027\n",
      "   0.81483314]\n",
      " [ 0.2367381  -0.48465665 -0.72069885 ..., -0.10969369 -0.23731145\n",
      "  -0.32491422]\n",
      " [-1.12236438  0.19663537  0.65219161 ..., -1.58556804  0.06269422\n",
      "   0.16075827]]\n",
      "[[ 0.94728886  0.89621257  1.50847896 ..., -1.09517525 -0.82061713\n",
      "  -1.29356475]\n",
      " [ 0.68536034  1.32760722  0.29198479 ..., -1.2467878   0.80539968\n",
      "  -1.3393702 ]\n",
      " [-0.78171799 -1.15917639 -0.13049748 ...,  0.87981298  1.33023558\n",
      "   1.3766235 ]\n",
      " ..., \n",
      " [-0.81863876  1.10005839  1.39171251 ...,  1.28299502 -1.6343216\n",
      "  -1.0005446 ]\n",
      " [ 0.8504589   0.25419981  1.65850617 ...,  1.01733763 -1.12549528\n",
      "   1.39885262]\n",
      " [ 0.10925693  0.33140387 -0.91743264 ...,  0.26531257 -0.50320974\n",
      "  -1.4026895 ]]\n"
     ]
    }
   ],
   "source": [
    "# Print the shape of X_train\n",
    "print(X_train)\n",
    "# Print the shape of X_crossVal\n",
    "print(X_crossVal)\n",
    "# Print the shape of X_test\n",
    "print(X_test)"
   ]
  },
  {
   "cell_type": "code",
   "execution_count": null,
   "metadata": {},
   "outputs": [],
   "source": []
  }
 ],
 "metadata": {
  "kernelspec": {
   "display_name": "Python 3",
   "language": "python",
   "name": "python3"
  },
  "language_info": {
   "codemirror_mode": {
    "name": "ipython",
    "version": 3
   },
   "file_extension": ".py",
   "mimetype": "text/x-python",
   "name": "python",
   "nbconvert_exporter": "python",
   "pygments_lexer": "ipython3",
   "version": "3.6.3"
  }
 },
 "nbformat": 4,
 "nbformat_minor": 2
}
